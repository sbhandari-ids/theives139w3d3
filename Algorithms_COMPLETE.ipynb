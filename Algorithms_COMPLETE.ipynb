{
 "cells": [
  {
   "cell_type": "markdown",
   "metadata": {},
   "source": [
    "# Algorithms & Binary Search"
   ]
  },
  {
   "cell_type": "markdown",
   "metadata": {},
   "source": [
    "## Tasks Today:\n",
    " \n",
    "1) <b>In-Place Algorithms</b> <br>\n",
    " &nbsp;&nbsp;&nbsp;&nbsp; a) Syntax <br>\n",
    " &nbsp;&nbsp;&nbsp;&nbsp; a) Out of Place Algorithm <br>\n",
    " &nbsp;&nbsp;&nbsp;&nbsp; b) In-Class Exercise #1 <br>\n",
    "2) <b>Two Pointers</b> <br>\n",
    "3) <b>Linked Lists</b> <br>\n",
    "4) <b>Merge Sort</b> <br>\n",
    " &nbsp;&nbsp;&nbsp;&nbsp; a) Video on Algorithms <br>\n",
    " &nbsp;&nbsp;&nbsp;&nbsp; b) How it Works <br>\n",
    "5) <b>Exercises</b> <br>\n",
    " &nbsp;&nbsp;&nbsp;&nbsp; a) Exercise #1 - Reverse a List in Place Using an In-Place Algorithm <br>\n",
    " &nbsp;&nbsp;&nbsp;&nbsp; b) Exercise #2 - Find Distinct Words <br>\n",
    " &nbsp;&nbsp;&nbsp;&nbsp; c) Exercise #3 - Write a program to implement a Linear Search Algorithm. <br>"
   ]
  },
  {
   "cell_type": "markdown",
   "metadata": {},
   "source": [
    "## In-Place Algorithms"
   ]
  },
  {
   "cell_type": "markdown",
   "metadata": {},
   "source": [
    "#### Syntax"
   ]
  },
  {
   "cell_type": "code",
   "execution_count": 7,
   "metadata": {},
   "outputs": [
    {
     "name": "stdout",
     "output_type": "stream",
     "text": [
      "1488130311680\n",
      "None\n",
      "1488130311680\n",
      "None\n"
     ]
    }
   ],
   "source": [
    "# modify the data in side its place in memory\n",
    "#typically you need to return, because you've acutally modified your input directly\n",
    "\n",
    "\n",
    "def double_nums(alist):\n",
    "    for index in range(len(alist)):\n",
    "        alist[index] = alist[index] * 2\n",
    "\n",
    "myList = [1,2,3,4,5]\n",
    "print(id(myList))\n",
    "\n",
    "\n",
    "doubled = double_nums(myList)\n",
    "print(doubled)\n",
    "\n",
    "print(id(myList))\n",
    "\n",
    "# .sort()\n",
    "\n",
    "new_list = myList.sort()\n",
    "\n",
    "print(new_list)"
   ]
  },
  {
   "cell_type": "markdown",
   "metadata": {},
   "source": [
    "#### Out of Place Algorithm"
   ]
  },
  {
   "cell_type": "code",
   "execution_count": 12,
   "metadata": {},
   "outputs": [
    {
     "name": "stdout",
     "output_type": "stream",
     "text": [
      "1488109820160\n",
      "1488109884480\n",
      "[1, 2, 3, 5]\n"
     ]
    }
   ],
   "source": [
    "#take the data make changes and then store the changes in a new position in memory\n",
    "\n",
    "def out_dn(alist):\n",
    "    output = []\n",
    "    for num in alist:\n",
    "        output.append(num*2)\n",
    "    return output\n",
    "\n",
    "myList = [1,2,3,4,5]\n",
    "print(id(myList))\n",
    "\n",
    "changedList = out_dn(myList)\n",
    "\n",
    "print(id(myList))\n",
    "\n",
    "\n",
    "# sorted()\n",
    "\n",
    "alist = [2,1,5,3]\n",
    "\n",
    "new = sorted(alist)\n",
    "\n",
    "print(new)\n"
   ]
  },
  {
   "cell_type": "markdown",
   "metadata": {},
   "source": [
    "#### In-Class Exercise #1 <br>\n",
    "<p>Write a function that takes in four arguments (list, index1, index2, index3), and swaps those three positions in the list passed in.</p>"
   ]
  },
  {
   "cell_type": "code",
   "execution_count": 16,
   "metadata": {},
   "outputs": [
    {
     "data": {
      "text/plain": [
       "[4, 3, 10, 8, 4, 2, 6]"
      ]
     },
     "execution_count": 16,
     "metadata": {},
     "output_type": "execute_result"
    }
   ],
   "source": [
    "l_1 = [10, 4, 3, 8, 4, 2, 6]\n",
    "\n",
    "x , y , z = 1, 2,3\n",
    "\n",
    "def in_swap(alist, i1, i2, i3):\n",
    "    alist[i1], alist[i2], alist[i3] = alist[i2], alist[i3], alist[i1]\n",
    "\n",
    "in_swap(l_1, 0, 1, 2)\n",
    "\n",
    "l_1\n",
    "\n",
    "\n"
   ]
  },
  {
   "cell_type": "markdown",
   "metadata": {},
   "source": [
    "## Two Pointers"
   ]
  },
  {
   "cell_type": "markdown",
   "metadata": {},
   "source": [
    "#### Syntax"
   ]
  },
  {
   "cell_type": "code",
   "execution_count": 44,
   "metadata": {},
   "outputs": [
    {
     "name": "stdout",
     "output_type": "stream",
     "text": [
      "None\n",
      "[6, 2, 4, 8, 3, 4, 10]\n"
     ]
    }
   ],
   "source": [
    "#Two-pointers algorithms that keep track of two indeces at the same time\n",
    "#many forms, can be used in searching, swaping, and sliding/growing windows\n",
    "\n",
    "l_1 = [10, 4, 3, 8, 4, 2, 6]\n",
    "\n",
    "def swapper(alist):\n",
    "\n",
    "    left = 0\n",
    "    right = len(alist) - 1\n",
    "\n",
    "    while left <= right:\n",
    "        \n",
    "        alist[left], alist[right] = alist[right], alist[left]\n",
    "        \n",
    "        left += 1\n",
    "        right -= 1\n",
    "\n",
    "\n",
    "\n",
    "print(swapper(l_1))\n",
    "print(l_1)\n",
    "\n",
    "\n",
    "\n"
   ]
  },
  {
   "cell_type": "markdown",
   "metadata": {},
   "source": [
    "#### Video of Algorithms <br>\n",
    "<p>Watch the video about algorithms.</p>\n",
    "\n",
    "https://www.youtube.com/watch?v=Q9HjeFD62Uk\n",
    "\n",
    "https://www.youtube.com/watch?v=kPRA0W1kECg\n",
    "\n",
    "https://www.youtube.com/watch?v=ZZuD6iUe3Pc"
   ]
  },
  {
   "cell_type": "markdown",
   "metadata": {},
   "source": [
    "# Sorting Algorithms"
   ]
  },
  {
   "cell_type": "markdown",
   "metadata": {},
   "source": [
    "#### Bubble Sort\n",
    "\n",
    "Worst Case: O(n^2) Time - O(1) Space"
   ]
  },
  {
   "cell_type": "code",
   "execution_count": 21,
   "metadata": {},
   "outputs": [
    {
     "name": "stdout",
     "output_type": "stream",
     "text": [
      "1\n",
      "[9, 5, 3, 7, 2, 1, 8]\n",
      "[5, 9, 3, 7, 2, 1, 8]\n",
      "[5, 3, 9, 7, 2, 1, 8]\n",
      "[5, 3, 7, 9, 2, 1, 8]\n",
      "[5, 3, 7, 2, 9, 1, 8]\n",
      "[5, 3, 7, 2, 1, 9, 8]\n",
      "2\n",
      "[5, 3, 7, 2, 1, 8, 9]\n",
      "[3, 5, 7, 2, 1, 8, 9]\n",
      "[3, 5, 7, 2, 1, 8, 9]\n",
      "[3, 5, 2, 7, 1, 8, 9]\n",
      "[3, 5, 2, 1, 7, 8, 9]\n",
      "[3, 5, 2, 1, 7, 8, 9]\n",
      "3\n",
      "[3, 5, 2, 1, 7, 8, 9]\n",
      "[3, 5, 2, 1, 7, 8, 9]\n",
      "[3, 2, 5, 1, 7, 8, 9]\n",
      "[3, 2, 1, 5, 7, 8, 9]\n",
      "[3, 2, 1, 5, 7, 8, 9]\n",
      "[3, 2, 1, 5, 7, 8, 9]\n",
      "4\n",
      "[3, 2, 1, 5, 7, 8, 9]\n",
      "[2, 3, 1, 5, 7, 8, 9]\n",
      "[2, 1, 3, 5, 7, 8, 9]\n",
      "[2, 1, 3, 5, 7, 8, 9]\n",
      "[2, 1, 3, 5, 7, 8, 9]\n",
      "[2, 1, 3, 5, 7, 8, 9]\n",
      "5\n",
      "[2, 1, 3, 5, 7, 8, 9]\n",
      "[1, 2, 3, 5, 7, 8, 9]\n",
      "[1, 2, 3, 5, 7, 8, 9]\n",
      "[1, 2, 3, 5, 7, 8, 9]\n",
      "[1, 2, 3, 5, 7, 8, 9]\n",
      "[1, 2, 3, 5, 7, 8, 9]\n",
      "6\n",
      "[1, 2, 3, 5, 7, 8, 9]\n",
      "[1, 2, 3, 5, 7, 8, 9]\n",
      "[1, 2, 3, 5, 7, 8, 9]\n",
      "[1, 2, 3, 5, 7, 8, 9]\n",
      "[1, 2, 3, 5, 7, 8, 9]\n",
      "[1, 2, 3, 5, 7, 8, 9]\n",
      "[1, 2, 3, 5, 7, 8, 9]\n"
     ]
    }
   ],
   "source": [
    "alist = [9, 5, 3, 7, 2, 1, 8]\n",
    "\n",
    "def swap(alist, x, y):\n",
    "    alist[x], alist[y] = alist[y], alist[x]\n",
    "\n",
    "\n",
    "def bubble(alist):\n",
    "\n",
    "    sorted = False\n",
    "    p = 0\n",
    "    while not sorted:\n",
    "        p+=1\n",
    "        print(p)\n",
    "        sorted = True\n",
    "        for index  in range(len(alist) - 1):\n",
    "            print(alist)\n",
    "            if alist[index] > alist[index + 1]:\n",
    "                swap(alist, index, index+1)\n",
    "                sorted = False\n",
    "        \n",
    "    \n",
    "bubble(alist)\n",
    "print(alist)"
   ]
  },
  {
   "cell_type": "markdown",
   "metadata": {},
   "source": [
    "##### Insertion Sort\n",
    "\n",
    "Worst Case: O(n^2) time - O(1)space"
   ]
  },
  {
   "cell_type": "code",
   "execution_count": 23,
   "metadata": {},
   "outputs": [
    {
     "name": "stdout",
     "output_type": "stream",
     "text": [
      "[9]\n",
      "5\n",
      "[9, 5]\n",
      "[5, 9]\n",
      "3\n",
      "[5, 9, 3]\n",
      "[5, 3, 9]\n",
      "[3, 5, 9]\n",
      "7\n",
      "[3, 5, 9, 7]\n",
      "[3, 5, 7, 9]\n",
      "2\n",
      "[3, 5, 7, 9, 2]\n",
      "[3, 5, 7, 2, 9]\n",
      "[3, 5, 2, 7, 9]\n",
      "[3, 2, 5, 7, 9]\n",
      "[2, 3, 5, 7, 9]\n",
      "1\n",
      "[2, 3, 5, 7, 9, 1]\n",
      "[2, 3, 5, 7, 1, 9]\n",
      "[2, 3, 5, 1, 7, 9]\n",
      "[2, 3, 1, 5, 7, 9]\n",
      "[2, 1, 3, 5, 7, 9]\n",
      "[1, 2, 3, 5, 7, 9]\n",
      "8\n",
      "[1, 2, 3, 5, 7, 9, 8]\n",
      "[1, 2, 3, 5, 7, 8, 9]\n"
     ]
    }
   ],
   "source": [
    "alist = [9, 5, 3, 7, 2, 1, 8]\n",
    "\n",
    "def swap(alist, x, y):\n",
    "    alist[x], alist[y] = alist[y], alist[x]\n",
    "\n",
    "def insertion(alist):\n",
    "    for i in range(1, len(alist)):\n",
    "        p = i\n",
    "        print(alist[:i])\n",
    "        print(alist[i])\n",
    "        while i > 0 and alist[i] < alist[i-1]:\n",
    "            print(alist[:p+1])\n",
    "            swap(alist, i , i - 1)\n",
    "            i -= 1\n",
    "\n",
    "insertion(alist)\n",
    "print(alist)"
   ]
  },
  {
   "cell_type": "markdown",
   "metadata": {},
   "source": [
    "## Merge Sort"
   ]
  },
  {
   "cell_type": "markdown",
   "metadata": {},
   "source": [
    "#### How it Works"
   ]
  },
  {
   "cell_type": "code",
   "execution_count": 26,
   "metadata": {},
   "outputs": [
    {
     "name": "stdout",
     "output_type": "stream",
     "text": [
      "SPLITTING: [9, 5, 3, 7, 2, 1, 8, 4]\n",
      "Left half: [9, 5, 3, 7], right half: [2, 1, 8, 4]\n",
      "SPLITTING: [9, 5, 3, 7]\n",
      "Left half: [9, 5], right half: [3, 7]\n",
      "SPLITTING: [9, 5]\n",
      "Left half: [9], right half: [5]\n",
      "merging left: [9], right: [5]\n",
      "Merged [5, 9]\n",
      "SPLITTING: [3, 7]\n",
      "Left half: [3], right half: [7]\n",
      "merging left: [3], right: [7]\n",
      "Merged [3, 7]\n",
      "merging left: [5, 9], right: [3, 7]\n",
      "Merged [3, 5, 7, 9]\n",
      "SPLITTING: [2, 1, 8, 4]\n",
      "Left half: [2, 1], right half: [8, 4]\n",
      "SPLITTING: [2, 1]\n",
      "Left half: [2], right half: [1]\n",
      "merging left: [2], right: [1]\n",
      "Merged [1, 2]\n",
      "SPLITTING: [8, 4]\n",
      "Left half: [8], right half: [4]\n",
      "merging left: [8], right: [4]\n",
      "Merged [4, 8]\n",
      "merging left: [1, 2], right: [4, 8]\n",
      "Merged [1, 2, 4, 8]\n",
      "merging left: [3, 5, 7, 9], right: [1, 2, 4, 8]\n",
      "Merged [1, 2, 3, 4, 5, 7, 8, 9]\n",
      "[1, 2, 3, 4, 5, 7, 8, 9]\n"
     ]
    }
   ],
   "source": [
    "#using reecursion continuosly break down your list until base case of single item list\n",
    "#then begin mergin until one list is empty\n",
    "#fill in from non empty list\n",
    "blist = [9, 5, 3, 7, 2, 1, 8 ,4]\n",
    "def mergeSort(alist):\n",
    "\n",
    "    if len(alist) > 1:\n",
    "        middle = len(alist) // 2\n",
    "        left_half = alist[:middle]\n",
    "        right_half = alist[middle:]\n",
    "        print(f'SPLITTING: {alist}')\n",
    "        print(f'Left half: {left_half}, right half: {right_half}')\n",
    "\n",
    "        mergeSort(left_half)\n",
    "        mergeSort(right_half)\n",
    "\n",
    "        print(f'merging left: {left_half}, right: {right_half}')\n",
    "\n",
    "        l = 0 #pointer for left list\n",
    "        r = 0 #pointer for right list\n",
    "        m = 0 #ponter for main list\n",
    "\n",
    "        #compare elements in left and right merging them in, until one list is empty\n",
    "\n",
    "        while l < len(left_half) and r < len(right_half):\n",
    "\n",
    "            if left_half[l] < right_half[r]:\n",
    "                alist[m] = left_half[l]\n",
    "                l += 1\n",
    "            else:\n",
    "                alist[m] = right_half[r]\n",
    "                r += 1\n",
    "\n",
    "            m += 1\n",
    "\n",
    "        #once a list has been emptied, fill in from the non-empty list\n",
    "        \n",
    "        while l < len(left_half):\n",
    "            alist[m] = left_half[l]\n",
    "            l+= 1\n",
    "            m+= 1\n",
    "\n",
    "        while r < len(right_half):\n",
    "            alist[m] = right_half[r]\n",
    "            r+= 1\n",
    "            m += 1\n",
    "        print(f'Merged {alist}')\n",
    "        \n",
    "\n",
    "        \n",
    "mergeSort(blist)\n",
    "print(blist)\n"
   ]
  },
  {
   "cell_type": "markdown",
   "metadata": {},
   "source": [
    "# Binary Search\n",
    "\n",
    "The Binary Search algorithm works by finding the number in the middle of a given array and comparing it to the target. Given that the array is sorted\n",
    "\n",
    "* The worst case run time for this algorithm is `O(log(n))`"
   ]
  },
  {
   "cell_type": "code",
   "execution_count": 8,
   "metadata": {},
   "outputs": [
    {
     "name": "stdout",
     "output_type": "stream",
     "text": [
      "WINNER WINNER CHICKEN DINNER found target at index 3\n"
     ]
    }
   ],
   "source": [
    "\n",
    "\n",
    "\n",
    "def binarySearch(alist, target):\n",
    "    left = 0\n",
    "    right = len(alist) - 1\n",
    "    while left <= right:\n",
    "        middle = (left + right) // 2\n",
    "        potential = alist[middle]\n",
    "        if target == potential:\n",
    "            return f'WINNER WINNER CHICKEN DINNER found target at index {middle}'\n",
    "        elif target < potential:\n",
    "            right = middle - 1\n",
    "        elif target > potential:\n",
    "            left = middle + 1\n",
    "        \n",
    "    return 'Target not in list'\n",
    "\n",
    "alist = [1,2,3,4,5,6,7,8,9,10]\n",
    "\n",
    "print(binarySearch(alist, 4))\n"
   ]
  },
  {
   "cell_type": "markdown",
   "metadata": {},
   "source": [
    "# Exercises"
   ]
  },
  {
   "cell_type": "markdown",
   "metadata": {},
   "source": [
    "### Exercise #1 <br>\n",
    "<p>Reverse the list below in-place using an in-place algorithm.<br>For extra credit: Reverse the strings at the same time.</p>"
   ]
  },
  {
   "cell_type": "code",
   "execution_count": 65,
   "metadata": {},
   "outputs": [
    {
     "name": "stdout",
     "output_type": "stream",
     "text": [
      "['.', 'sentence', 'a', 'is', 'this'] \n",
      "\n",
      "['this', 'is', 'a', 'sentence', '.']\n"
     ]
    }
   ],
   "source": [
    "words = ['this' , 'is', 'a', 'sentence', '.']\n",
    "# your function should work on any list\n",
    "left = 0\n",
    "right = len(words)-1\n",
    "\n",
    "words[0],words[1],words[2],words[3],words[4] = words[4],words[3],words[2],words[1],words[0]\n",
    "\n",
    "print(words,'\\n')\n",
    "\n",
    "\n",
    "while left<right:\n",
    "    words[left],words[right]=words[right],words[left]\n",
    "    left+=1\n",
    "    right-=1\n",
    "\n",
    "print(words)"
   ]
  },
  {
   "cell_type": "markdown",
   "metadata": {},
   "source": [
    "### Exercise #2 <br>\n",
    "<p>Create a function that counts how many distinct words are in the string below, then outputs a dictionary with the words as the key and the value as the amount of times that word appears in the string.<br>Should output:<br>{'a': 5,<br>\n",
    " 'abstract': 1,<br>\n",
    " 'an': 3,<br>\n",
    " 'array': 2, ... etc...</p>"
   ]
  },
  {
   "cell_type": "code",
   "execution_count": 66,
   "metadata": {},
   "outputs": [
    {
     "name": "stdout",
     "output_type": "stream",
     "text": [
      "['in', 'computing', 'a', 'hash', 'table', 'hash', 'map', 'is', 'a', 'data', 'structure', 'which', 'implements', 'an', 'associative', 'array', 'abstract', 'data', 'type', 'a', 'structure', 'that', 'can', 'map', 'keys', 'to', 'values.', 'a', 'hash', 'table', 'uses', 'a', 'hash', 'function', 'to', 'compute', 'an', 'index', 'into', 'an', 'array', 'of', 'buckets', 'or', 'slots', 'from', 'which', 'the', 'desired', 'value', 'can', 'be', 'found']\n",
      "====================================================================================================\n",
      "['in', 'computing', 'a', 'hash', 'table', 'map', 'is', 'data', 'structure', 'which', 'implements', 'an', 'associative', 'array', 'abstract', 'type', 'that', 'can', 'keys', 'to', 'values.', 'uses', 'function', 'compute', 'index', 'into', 'of', 'buckets', 'or', 'slots', 'from', 'the', 'desired', 'value', 'be', 'found']\n",
      "====================================================================================================\n",
      "[('a', 5), ('abstract', 1), ('an', 3), ('array', 2), ('associative', 1), ('be', 1), ('buckets', 1), ('can', 2), ('compute', 1), ('computing', 1), ('data', 2), ('desired', 1), ('found', 1), ('from', 1), ('function', 1), ('hash', 4), ('implements', 1), ('in', 1), ('index', 1), ('into', 1), ('is', 1), ('keys', 1), ('map', 2), ('of', 1), ('or', 1), ('slots', 1), ('structure', 2), ('table', 2), ('that', 1), ('the', 1), ('to', 2), ('type', 1), ('uses', 1), ('value', 1), ('values.', 1), ('which', 2)]\n"
     ]
    }
   ],
   "source": [
    "a_text = 'In computing, a hash table hash map is a data structure which implements an associative array abstract data type, a structure that can map keys to values. A hash table uses a hash function to compute an index into an array of buckets or slots from which the desired value can be found'\n",
    "\n",
    "#casing shouldn't matter\n",
    "#watch for punctuation\n",
    "word_bank= {}\n",
    "unique_words = []\n",
    "count = 0 \n",
    "b_text = a_text.replace(',','').lower()\n",
    "# print(b_text)\n",
    "b_text = b_text.split()\n",
    "print(b_text)\n",
    "for word in b_text: \n",
    "    if word in unique_words:\n",
    "        word_bank[word] += 1 \n",
    "        continue\n",
    "    else: \n",
    "        unique_words.append(word)\n",
    "        word_bank[word] = 1\n",
    "\n",
    "    \n",
    "print(\"=\"*100)\n",
    "print(unique_words)\n",
    "print(\"=\"*100)\n",
    "print(sorted(word_bank.items()))"
   ]
  },
  {
   "cell_type": "markdown",
   "metadata": {},
   "source": [
    "## Exercise #3\n",
    "\n",
    "Write a program to implement a Linear Search Algorithm. Also in a comment, write the Time Complexity of the following algorithm.\n",
    "\n",
    "#### Hint: Linear Searching will require searching a list for a given number. "
   ]
  },
  {
   "cell_type": "code",
   "execution_count": 24,
   "metadata": {},
   "outputs": [
    {
     "name": "stdout",
     "output_type": "stream",
     "text": [
      "[18, 22, 6, 41, 16, 28, 36, 44, 28, 22, 25, 10, 32, 2, 43, 26, 15, 32, 36, 10, 42]\n",
      "##################################################\n",
      "Searched item : 25 found at 11 attempts\n"
     ]
    }
   ],
   "source": [
    "#output the index of the target if it exists\n",
    "\n",
    "#here i have generated a list of 21 random numbers between 1 and 50 and searching for the number 25 in the list. This is not a \n",
    "\n",
    "import random\n",
    "num_20=[]\n",
    "for num in range(21):\n",
    "    rand_num = random.randint(1,50)\n",
    "    num_20.append(rand_num)\n",
    "\n",
    "print(num_20)\n",
    "\n",
    "print('#'*50)\n",
    "\n",
    "def linear_search(list, target):\n",
    "    # target = int(input(\"What is the search target? \"))\n",
    "    found = False\n",
    "    count=0\n",
    "   \n",
    "    for num in list: \n",
    "        count+=1 \n",
    "        if num == target:\n",
    "            print(f'Searched item : {target} found in {count} attempts') \n",
    "            found = True\n",
    "            break\n",
    "        else: continue\n",
    "\n",
    "    if found == False : \n",
    "        print(f\" number : {target}  is not in the list\")\n",
    "\n",
    "\n",
    "linear_search(num_20, 25)\n",
    "\n",
    "\n",
    "\n",
    "\n",
    "\n",
    "\n"
   ]
  }
 ],
 "metadata": {
  "kernelspec": {
   "display_name": "Python 3.10.8 64-bit (microsoft store)",
   "language": "python",
   "name": "python3"
  },
  "language_info": {
   "codemirror_mode": {
    "name": "ipython",
    "version": 3
   },
   "file_extension": ".py",
   "mimetype": "text/x-python",
   "name": "python",
   "nbconvert_exporter": "python",
   "pygments_lexer": "ipython3",
   "version": "3.11.7"
  },
  "vscode": {
   "interpreter": {
    "hash": "aa82987a71ca0339a52998cd22613b0c002bda8349fa32a0cb67ceec3936a2bf"
   }
  }
 },
 "nbformat": 4,
 "nbformat_minor": 2
}
